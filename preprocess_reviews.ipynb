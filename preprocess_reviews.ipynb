{
 "cells": [
  {
   "cell_type": "markdown",
   "metadata": {},
   "source": [
    "# Reviews"
   ]
  },
  {
   "cell_type": "code",
   "execution_count": 24,
   "metadata": {},
   "outputs": [],
   "source": [
    "# import libraries\n",
    "\n",
    "import findspark\n",
    "findspark.init()\n",
    "from pyspark.sql import SparkSession\n",
    "from pyspark import SparkContext\n",
    "from pyspark.sql import SQLContext\n",
    "from pyspark.sql.types import IntegerType, DoubleType\n",
    "from pyspark.sql.functions import *\n",
    "\n",
    "from pyspark.ml.evaluation import RegressionEvaluator\n",
    "from pyspark.ml.recommendation import ALS"
   ]
  },
  {
   "cell_type": "code",
   "execution_count": 25,
   "metadata": {},
   "outputs": [],
   "source": [
    "spark = SparkSession.builder.appName('rec').getOrCreate()"
   ]
  },
  {
   "cell_type": "code",
   "execution_count": 26,
   "metadata": {},
   "outputs": [],
   "source": [
    "reviews = spark.read.csv('Review_new.csv',inferSchema=True,header=True)"
   ]
  },
  {
   "cell_type": "code",
   "execution_count": 27,
   "metadata": {},
   "outputs": [],
   "source": [
    "reviews = reviews.withColumn('customer_id',reviews['customer_id'].cast(IntegerType()))\n",
    "reviews = reviews.withColumn('product_id',reviews['product_id'].cast(IntegerType()))\n",
    "reviews = reviews.withColumn('rating',reviews['rating'].cast(DoubleType()))"
   ]
  },
  {
   "cell_type": "code",
   "execution_count": 28,
   "metadata": {},
   "outputs": [],
   "source": [
    "reviews = reviews.na.drop(subset=['customer_id','product_id','rating'],how='any')"
   ]
  },
  {
   "cell_type": "code",
   "execution_count": 29,
   "metadata": {},
   "outputs": [],
   "source": [
    "reviews.toPandas().to_csv(\"final_review.csv\")"
   ]
  },
  {
   "cell_type": "code",
   "execution_count": 30,
   "metadata": {},
   "outputs": [],
   "source": [
    "# Distinct users and movies\n",
    "users = reviews.select('customer_id').distinct().count()\n",
    "prods = reviews.select('product_id').distinct().count()\n",
    "numberator = reviews.count()"
   ]
  },
  {
   "cell_type": "code",
   "execution_count": 31,
   "metadata": {},
   "outputs": [
    {
     "data": {
      "text/plain": [
       "1058240750"
      ]
     },
     "execution_count": 31,
     "metadata": {},
     "output_type": "execute_result"
    }
   ],
   "source": [
    "denominator = users * prods\n",
    "denominator"
   ]
  },
  {
   "cell_type": "code",
   "execution_count": 32,
   "metadata": {},
   "outputs": [],
   "source": [
    "# Calculating sparsity\n",
    "sparsity = 1 - (numberator*1.0 / denominator)"
   ]
  },
  {
   "cell_type": "code",
   "execution_count": 33,
   "metadata": {},
   "outputs": [],
   "source": [
    "reviews_sub = reviews.select('customer_id','product_id','rating')"
   ]
  },
  {
   "cell_type": "code",
   "execution_count": 34,
   "metadata": {},
   "outputs": [],
   "source": [
    "# reviews_sub.coalesce(1).write.format(\"com.databricks.spark.csv\").option(\"header\", \"true\").save(\"final_review.csv\")\n",
    "reviews_sub.toPandas().to_csv(\"nearly_review.csv\")\n",
    "# spark.sql(\"select * from reviews_sub\").coalesce(1).write.option(\"mode\",\"append\").option(\"header\",\"true\").csv(\"final_review.csv\")"
   ]
  },
  {
   "cell_type": "code",
   "execution_count": 35,
   "metadata": {},
   "outputs": [],
   "source": [
    "(training,test) = reviews_sub.randomSplit([0.8,0.2])"
   ]
  },
  {
   "cell_type": "code",
   "execution_count": 36,
   "metadata": {},
   "outputs": [],
   "source": [
    "als = ALS(maxIter=15,\n",
    "            regParam=0.1,\n",
    "            userCol='customer_id',\n",
    "            itemCol='product_id',\n",
    "            ratingCol='rating',\n",
    "            coldStartStrategy='drop',\n",
    "            nonnegative=True)\n",
    "model = als.fit(training)"
   ]
  },
  {
   "cell_type": "code",
   "execution_count": 37,
   "metadata": {},
   "outputs": [],
   "source": [
    "# Evaluate the model by computing the RMSE on the test data\n",
    "predictions = model.transform(test)"
   ]
  },
  {
   "cell_type": "code",
   "execution_count": 38,
   "metadata": {},
   "outputs": [],
   "source": [
    "evaluator = RegressionEvaluator(metricName='rmse',\n",
    "                                labelCol='rating',\n",
    "                                predictionCol='prediction')"
   ]
  },
  {
   "cell_type": "code",
   "execution_count": 39,
   "metadata": {},
   "outputs": [],
   "source": [
    "rmse = evaluator.evaluate(predictions)"
   ]
  },
  {
   "cell_type": "code",
   "execution_count": 40,
   "metadata": {},
   "outputs": [],
   "source": [
    "# Get 10 recommendations which have highest rating\n",
    "user_recs = model.recommendForAllUsers(5)"
   ]
  },
  {
   "cell_type": "code",
   "execution_count": 41,
   "metadata": {},
   "outputs": [
    {
     "name": "stdout",
     "output_type": "stream",
     "text": [
      "+-----------+----------+------+\n",
      "|customer_id|product_id|rating|\n",
      "+-----------+----------+------+\n",
      "|    6177374|  47321729|   5.0|\n",
      "|    6177374|  47452735|   5.0|\n",
      "|    6177374|    416613|   5.0|\n",
      "|    6177374|  44009404|   5.0|\n",
      "|    6177374|  32033717|   5.0|\n",
      "|    6177374|  71198812|   5.0|\n",
      "|    6177374|  28571379|   5.0|\n",
      "|    6177374|  52539829|   5.0|\n",
      "|    6177374|  53447698|   5.0|\n",
      "+-----------+----------+------+\n",
      "\n"
     ]
    }
   ],
   "source": [
    "# products that userID bought\n",
    "userID = 6177374\n",
    "test.filter(test['customer_id']==userID).sort('rating',ascending=False).show()"
   ]
  },
  {
   "cell_type": "code",
   "execution_count": 42,
   "metadata": {},
   "outputs": [
    {
     "name": "stdout",
     "output_type": "stream",
     "text": [
      "+-----------+----------+------+\n",
      "|customer_id|product_id|rating|\n",
      "+-----------+----------+------+\n",
      "|    6177374|  15239985|   5.0|\n",
      "|    6177374|  38458616|   5.0|\n",
      "|    6177374|  38458616|   5.0|\n",
      "|    6177374|  32033717|   5.0|\n",
      "|    6177374|  35726089|   5.0|\n",
      "|    6177374|    702132|   5.0|\n",
      "|    6177374|  71051598|   5.0|\n",
      "|    6177374|  71197117|   5.0|\n",
      "|    6177374|  23459272|   5.0|\n",
      "|    6177374|  23556574|   5.0|\n",
      "|    6177374|   4497817|   5.0|\n",
      "|    6177374|  47499193|   5.0|\n",
      "|    6177374|    845378|   5.0|\n",
      "|    6177374|   7817447|   5.0|\n",
      "|    6177374|  75186039|   5.0|\n",
      "|    6177374|    555019|   5.0|\n",
      "|    6177374|  60030176|   5.0|\n",
      "|    6177374|  49661643|   5.0|\n",
      "|    6177374|  51030375|   5.0|\n",
      "|    6177374|  52070229|   5.0|\n",
      "+-----------+----------+------+\n",
      "only showing top 20 rows\n",
      "\n"
     ]
    }
   ],
   "source": [
    "training.filter(test['customer_id']==userID).sort('rating',ascending=False).show()"
   ]
  },
  {
   "cell_type": "code",
   "execution_count": 43,
   "metadata": {},
   "outputs": [
    {
     "name": "stdout",
     "output_type": "stream",
     "text": [
      "+-----------+---------------------------------------------------------------------------------------------------------------+\n",
      "|customer_id|recommendations                                                                                                |\n",
      "+-----------+---------------------------------------------------------------------------------------------------------------+\n",
      "|6177374    |[{57654514, 6.998508}, {20007977, 6.93751}, {74776144, 6.8708816}, {54349904, 6.795362}, {57440303, 6.7288017}]|\n",
      "+-----------+---------------------------------------------------------------------------------------------------------------+\n",
      "\n"
     ]
    }
   ],
   "source": [
    "result = user_recs.filter(user_recs['customer_id']==userID)\n",
    "result.show(truncate=False)"
   ]
  },
  {
   "cell_type": "code",
   "execution_count": 44,
   "metadata": {},
   "outputs": [],
   "source": [
    "result = result.select(result.customer_id,explode(result.recommendations))"
   ]
  },
  {
   "cell_type": "code",
   "execution_count": 45,
   "metadata": {},
   "outputs": [],
   "source": [
    "result = result.withColumn('product_id', result.col.getField('product_id'))\\\n",
    "    .withColumn('rating',result.col.getField('rating'))"
   ]
  },
  {
   "cell_type": "code",
   "execution_count": 46,
   "metadata": {},
   "outputs": [],
   "source": [
    "# Save to disk\n",
    "user_recs.write.parquet('user_recs.parquet',mode='overwrite')\n",
    "# user_recs.write.format(\"parquet\").saveAsTable(\"recommender_users\")"
   ]
  }
 ],
 "metadata": {
  "interpreter": {
   "hash": "f7291e4b392a32fbfa525b87d1bbd0a3d888adf3d0deca0c205c61b9e7284b82"
  },
  "kernelspec": {
   "display_name": "Python 3.6.8 64-bit",
   "language": "python",
   "name": "python3"
  },
  "language_info": {
   "codemirror_mode": {
    "name": "ipython",
    "version": 3
   },
   "file_extension": ".py",
   "mimetype": "text/x-python",
   "name": "python",
   "nbconvert_exporter": "python",
   "pygments_lexer": "ipython3",
   "version": "3.6.8"
  },
  "orig_nbformat": 4
 },
 "nbformat": 4,
 "nbformat_minor": 2
}
